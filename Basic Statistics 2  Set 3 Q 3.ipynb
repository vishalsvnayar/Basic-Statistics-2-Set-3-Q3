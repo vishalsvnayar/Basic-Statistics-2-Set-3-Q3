{
 "cells": [
  {
   "cell_type": "markdown",
   "id": "f9399f0e",
   "metadata": {},
   "source": [
    "**Q3**.\tFor each of the following statements, indicate whether it is True/False. If false, explain why.\n",
    "\n",
    "I.\tIf the 95% confidence interval for the average purchase of customers at a department store is $50 to $110, then $100 is a plausible value for the population mean at this level of confidence.\n",
    "\n",
    "**Ans**:True, because confidence interval identifies the collection of values for the population which is consistent with the observed sample.\n",
    "\n",
    "II.\tIf the 95% confidence interval for the number of moviegoers who purchase concessions is 30% to 45%, this means that fewer than half of all moviegoers purchase concessions.\n",
    "\n",
    "**Ans**:False, because Cannot say that with absolute certainty with this information.\n",
    "\n",
    "III.\tThe 95% Confidence-Interval for μ only applies if the sample data are nearly normally distributed.\n",
    "\n",
    "**Ans**:False, because confidence interval is depended on many factors and not just μ.\n",
    "\n"
   ]
  },
  {
   "cell_type": "code",
   "execution_count": null,
   "id": "f14d91d2",
   "metadata": {},
   "outputs": [],
   "source": []
  }
 ],
 "metadata": {
  "kernelspec": {
   "display_name": "Python 3 (ipykernel)",
   "language": "python",
   "name": "python3"
  },
  "language_info": {
   "codemirror_mode": {
    "name": "ipython",
    "version": 3
   },
   "file_extension": ".py",
   "mimetype": "text/x-python",
   "name": "python",
   "nbconvert_exporter": "python",
   "pygments_lexer": "ipython3",
   "version": "3.9.7"
  }
 },
 "nbformat": 4,
 "nbformat_minor": 5
}
